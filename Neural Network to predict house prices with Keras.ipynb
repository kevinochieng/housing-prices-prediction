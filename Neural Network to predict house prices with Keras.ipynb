{
 "cells": [
  {
   "cell_type": "code",
   "execution_count": null,
   "metadata": {},
   "outputs": [],
   "source": [
    "#https://www.freecodecamp.org/news/how-to-build-your-first-neural-network-to-predict-house-prices-with-keras-f8db83049159/"
   ]
  },
  {
   "cell_type": "code",
   "execution_count": 6,
   "metadata": {
    "scrolled": true
   },
   "outputs": [
    {
     "data": {
      "text/html": [
       "<div>\n",
       "<style scoped>\n",
       "    .dataframe tbody tr th:only-of-type {\n",
       "        vertical-align: middle;\n",
       "    }\n",
       "\n",
       "    .dataframe tbody tr th {\n",
       "        vertical-align: top;\n",
       "    }\n",
       "\n",
       "    .dataframe thead th {\n",
       "        text-align: right;\n",
       "    }\n",
       "</style>\n",
       "<table border=\"1\" class=\"dataframe\">\n",
       "  <thead>\n",
       "    <tr style=\"text-align: right;\">\n",
       "      <th></th>\n",
       "      <th>LotArea</th>\n",
       "      <th>OverallQual</th>\n",
       "      <th>OverallCond</th>\n",
       "      <th>TotalBsmtSF</th>\n",
       "      <th>FullBath</th>\n",
       "      <th>HalfBath</th>\n",
       "      <th>BedroomAbvGr</th>\n",
       "      <th>TotRmsAbvGrd</th>\n",
       "      <th>Fireplaces</th>\n",
       "      <th>GarageArea</th>\n",
       "      <th>AboveMedianPrice</th>\n",
       "    </tr>\n",
       "  </thead>\n",
       "  <tbody>\n",
       "    <tr>\n",
       "      <th>0</th>\n",
       "      <td>8450</td>\n",
       "      <td>7</td>\n",
       "      <td>5</td>\n",
       "      <td>856</td>\n",
       "      <td>2</td>\n",
       "      <td>1</td>\n",
       "      <td>3</td>\n",
       "      <td>8</td>\n",
       "      <td>0</td>\n",
       "      <td>548</td>\n",
       "      <td>1</td>\n",
       "    </tr>\n",
       "    <tr>\n",
       "      <th>1</th>\n",
       "      <td>9600</td>\n",
       "      <td>6</td>\n",
       "      <td>8</td>\n",
       "      <td>1262</td>\n",
       "      <td>2</td>\n",
       "      <td>0</td>\n",
       "      <td>3</td>\n",
       "      <td>6</td>\n",
       "      <td>1</td>\n",
       "      <td>460</td>\n",
       "      <td>1</td>\n",
       "    </tr>\n",
       "  </tbody>\n",
       "</table>\n",
       "</div>"
      ],
      "text/plain": [
       "   LotArea  OverallQual  OverallCond  TotalBsmtSF  FullBath  HalfBath  \\\n",
       "0     8450            7            5          856         2         1   \n",
       "1     9600            6            8         1262         2         0   \n",
       "\n",
       "   BedroomAbvGr  TotRmsAbvGrd  Fireplaces  GarageArea  AboveMedianPrice  \n",
       "0             3             8           0         548                 1  \n",
       "1             3             6           1         460                 1  "
      ]
     },
     "execution_count": 6,
     "metadata": {},
     "output_type": "execute_result"
    }
   ],
   "source": [
    "import pandas as pd\n",
    "df=pd.read_csv(\"housepricedata.csv\")\n",
    "df.head(2)\n"
   ]
  },
  {
   "cell_type": "code",
   "execution_count": 7,
   "metadata": {},
   "outputs": [
    {
     "data": {
      "text/plain": [
       "array([[ 8450,     7,     5, ...,     0,   548,     1],\n",
       "       [ 9600,     6,     8, ...,     1,   460,     1],\n",
       "       [11250,     7,     5, ...,     1,   608,     1],\n",
       "       ...,\n",
       "       [ 9042,     7,     9, ...,     2,   252,     1],\n",
       "       [ 9717,     5,     6, ...,     0,   240,     0],\n",
       "       [ 9937,     5,     6, ...,     0,   276,     0]])"
      ]
     },
     "execution_count": 7,
     "metadata": {},
     "output_type": "execute_result"
    }
   ],
   "source": [
    "#convert the dataset into arrays\n",
    "dataset = df.values\n",
    "dataset"
   ]
  },
  {
   "cell_type": "code",
   "execution_count": 8,
   "metadata": {},
   "outputs": [],
   "source": [
    "X = dataset[:,0:10]\n",
    "Y = dataset[:,10]"
   ]
  },
  {
   "cell_type": "code",
   "execution_count": 9,
   "metadata": {},
   "outputs": [],
   "source": [
    "from sklearn import preprocessing\n"
   ]
  },
  {
   "cell_type": "code",
   "execution_count": 11,
   "metadata": {
    "scrolled": true
   },
   "outputs": [],
   "source": [
    "min_max_scaler = preprocessing.MinMaxScaler()\n",
    "X_scale= min_max_scaler.fit_transform(X)"
   ]
  },
  {
   "cell_type": "code",
   "execution_count": 12,
   "metadata": {},
   "outputs": [
    {
     "data": {
      "text/plain": [
       "array([[0.0334198 , 0.66666667, 0.5       , ..., 0.5       , 0.        ,\n",
       "        0.3864598 ],\n",
       "       [0.03879502, 0.55555556, 0.875     , ..., 0.33333333, 0.33333333,\n",
       "        0.32440056],\n",
       "       [0.04650728, 0.66666667, 0.5       , ..., 0.33333333, 0.33333333,\n",
       "        0.42877292],\n",
       "       ...,\n",
       "       [0.03618687, 0.66666667, 1.        , ..., 0.58333333, 0.66666667,\n",
       "        0.17771509],\n",
       "       [0.03934189, 0.44444444, 0.625     , ..., 0.25      , 0.        ,\n",
       "        0.16925247],\n",
       "       [0.04037019, 0.44444444, 0.625     , ..., 0.33333333, 0.        ,\n",
       "        0.19464034]])"
      ]
     },
     "execution_count": 12,
     "metadata": {},
     "output_type": "execute_result"
    }
   ],
   "source": [
    "X_scale"
   ]
  },
  {
   "cell_type": "code",
   "execution_count": 32,
   "metadata": {},
   "outputs": [],
   "source": [
    "from sklearn.model_selection import train_test_split"
   ]
  },
  {
   "cell_type": "code",
   "execution_count": 37,
   "metadata": {},
   "outputs": [],
   "source": [
    "X_train, X_val_and_test, Y_train, Y_val_and_test = train_test_split(X_scale, Y, test_size=0.3)"
   ]
  },
  {
   "cell_type": "code",
   "execution_count": 38,
   "metadata": {},
   "outputs": [],
   "source": [
    "X_val, X_test, Y_val, Y_test = train_test_split(X_val_and_test, Y_val_and_test, test_size=0.5)"
   ]
  },
  {
   "cell_type": "code",
   "execution_count": 39,
   "metadata": {
    "scrolled": true
   },
   "outputs": [
    {
     "name": "stdout",
     "output_type": "stream",
     "text": [
      "(1022, 10) (219, 10) (219, 10) (1022,) (219,) (219,)\n"
     ]
    }
   ],
   "source": [
    "print(X_train.shape, X_val.shape, X_test.shape, Y_train.shape, Y_val.shape, Y_test.shape)"
   ]
  },
  {
   "cell_type": "code",
   "execution_count": 18,
   "metadata": {},
   "outputs": [
    {
     "data": {
      "text/plain": [
       "array([0, 0, 1, ..., 0, 0, 1])"
      ]
     },
     "execution_count": 18,
     "metadata": {},
     "output_type": "execute_result"
    }
   ],
   "source": [
    "Y_train"
   ]
  },
  {
   "cell_type": "code",
   "execution_count": 19,
   "metadata": {},
   "outputs": [
    {
     "name": "stderr",
     "output_type": "stream",
     "text": [
      "Using TensorFlow backend.\n"
     ]
    }
   ],
   "source": [
    "from keras.models import Sequential\n",
    "from keras.layers import Dense"
   ]
  },
  {
   "cell_type": "code",
   "execution_count": 20,
   "metadata": {},
   "outputs": [
    {
     "name": "stdout",
     "output_type": "stream",
     "text": [
      "WARNING:tensorflow:From /home/kevin_ochieng/anaconda3/lib/python3.7/site-packages/tensorflow/python/framework/op_def_library.py:263: colocate_with (from tensorflow.python.framework.ops) is deprecated and will be removed in a future version.\n",
      "Instructions for updating:\n",
      "Colocations handled automatically by placer.\n"
     ]
    }
   ],
   "source": [
    "model = Sequential([    Dense(32, activation='relu', input_shape=(10,)),    Dense(32, activation='relu'),    Dense(1, activation='sigmoid'),])"
   ]
  },
  {
   "cell_type": "code",
   "execution_count": 21,
   "metadata": {},
   "outputs": [],
   "source": [
    "#Second Step: Filling in the best numbers\n",
    "model.compile(optimizer='sgd',loss='binary_crossentropy',metrics=['accuracy'])"
   ]
  },
  {
   "cell_type": "code",
   "execution_count": 46,
   "metadata": {},
   "outputs": [
    {
     "name": "stdout",
     "output_type": "stream",
     "text": [
      "Train on 1022 samples, validate on 219 samples\n",
      "Epoch 1/100\n",
      "1022/1022 [==============================] - 0s 40us/step - loss: 0.2123 - acc: 0.9100 - val_loss: 0.2784 - val_acc: 0.8721\n",
      "Epoch 2/100\n",
      "1022/1022 [==============================] - 0s 36us/step - loss: 0.2129 - acc: 0.9090 - val_loss: 0.2821 - val_acc: 0.8767\n",
      "Epoch 3/100\n",
      "1022/1022 [==============================] - 0s 39us/step - loss: 0.2132 - acc: 0.9119 - val_loss: 0.2785 - val_acc: 0.8721\n",
      "Epoch 4/100\n",
      "1022/1022 [==============================] - 0s 36us/step - loss: 0.2143 - acc: 0.9080 - val_loss: 0.2785 - val_acc: 0.8721\n",
      "Epoch 5/100\n",
      "1022/1022 [==============================] - 0s 38us/step - loss: 0.2118 - acc: 0.9139 - val_loss: 0.2787 - val_acc: 0.8721\n",
      "Epoch 6/100\n",
      "1022/1022 [==============================] - 0s 35us/step - loss: 0.2124 - acc: 0.9110 - val_loss: 0.2794 - val_acc: 0.8630\n",
      "Epoch 7/100\n",
      "1022/1022 [==============================] - 0s 35us/step - loss: 0.2125 - acc: 0.9100 - val_loss: 0.2795 - val_acc: 0.8721\n",
      "Epoch 8/100\n",
      "1022/1022 [==============================] - 0s 33us/step - loss: 0.2117 - acc: 0.9090 - val_loss: 0.2791 - val_acc: 0.8584\n",
      "Epoch 9/100\n",
      "1022/1022 [==============================] - 0s 35us/step - loss: 0.2122 - acc: 0.9119 - val_loss: 0.2787 - val_acc: 0.8721\n",
      "Epoch 10/100\n",
      "1022/1022 [==============================] - 0s 37us/step - loss: 0.2102 - acc: 0.9178 - val_loss: 0.2927 - val_acc: 0.8721\n",
      "Epoch 11/100\n",
      "1022/1022 [==============================] - 0s 35us/step - loss: 0.2129 - acc: 0.9129 - val_loss: 0.2784 - val_acc: 0.8721\n",
      "Epoch 12/100\n",
      "1022/1022 [==============================] - 0s 34us/step - loss: 0.2112 - acc: 0.9159 - val_loss: 0.2784 - val_acc: 0.8721\n",
      "Epoch 13/100\n",
      "1022/1022 [==============================] - 0s 33us/step - loss: 0.2120 - acc: 0.9100 - val_loss: 0.2854 - val_acc: 0.8630\n",
      "Epoch 14/100\n",
      "1022/1022 [==============================] - 0s 35us/step - loss: 0.2133 - acc: 0.9051 - val_loss: 0.2783 - val_acc: 0.8721\n",
      "Epoch 15/100\n",
      "1022/1022 [==============================] - 0s 36us/step - loss: 0.2122 - acc: 0.9070 - val_loss: 0.2850 - val_acc: 0.8630\n",
      "Epoch 16/100\n",
      "1022/1022 [==============================] - 0s 40us/step - loss: 0.2118 - acc: 0.9139 - val_loss: 0.2791 - val_acc: 0.8767\n",
      "Epoch 17/100\n",
      "1022/1022 [==============================] - 0s 34us/step - loss: 0.2133 - acc: 0.9159 - val_loss: 0.2787 - val_acc: 0.8721\n",
      "Epoch 18/100\n",
      "1022/1022 [==============================] - 0s 35us/step - loss: 0.2133 - acc: 0.9110 - val_loss: 0.2787 - val_acc: 0.8630\n",
      "Epoch 19/100\n",
      "1022/1022 [==============================] - 0s 41us/step - loss: 0.2122 - acc: 0.9129 - val_loss: 0.2782 - val_acc: 0.8630\n",
      "Epoch 20/100\n",
      "1022/1022 [==============================] - 0s 35us/step - loss: 0.2126 - acc: 0.9149 - val_loss: 0.2813 - val_acc: 0.8767\n",
      "Epoch 21/100\n",
      "1022/1022 [==============================] - 0s 36us/step - loss: 0.2126 - acc: 0.9080 - val_loss: 0.2785 - val_acc: 0.8630\n",
      "Epoch 22/100\n",
      "1022/1022 [==============================] - 0s 36us/step - loss: 0.2114 - acc: 0.9110 - val_loss: 0.2783 - val_acc: 0.8630\n",
      "Epoch 23/100\n",
      "1022/1022 [==============================] - 0s 36us/step - loss: 0.2110 - acc: 0.9119 - val_loss: 0.2786 - val_acc: 0.8721\n",
      "Epoch 24/100\n",
      "1022/1022 [==============================] - 0s 35us/step - loss: 0.2123 - acc: 0.9100 - val_loss: 0.2785 - val_acc: 0.8676\n",
      "Epoch 25/100\n",
      "1022/1022 [==============================] - 0s 39us/step - loss: 0.2132 - acc: 0.9100 - val_loss: 0.2791 - val_acc: 0.8767\n",
      "Epoch 26/100\n",
      "1022/1022 [==============================] - 0s 36us/step - loss: 0.2115 - acc: 0.9129 - val_loss: 0.2788 - val_acc: 0.8721\n",
      "Epoch 27/100\n",
      "1022/1022 [==============================] - 0s 35us/step - loss: 0.2123 - acc: 0.9100 - val_loss: 0.2827 - val_acc: 0.8767\n",
      "Epoch 28/100\n",
      "1022/1022 [==============================] - 0s 38us/step - loss: 0.2115 - acc: 0.9041 - val_loss: 0.2792 - val_acc: 0.8584\n",
      "Epoch 29/100\n",
      "1022/1022 [==============================] - 0s 36us/step - loss: 0.2124 - acc: 0.9139 - val_loss: 0.2809 - val_acc: 0.8813\n",
      "Epoch 30/100\n",
      "1022/1022 [==============================] - 0s 41us/step - loss: 0.2108 - acc: 0.9110 - val_loss: 0.2800 - val_acc: 0.8767\n",
      "Epoch 31/100\n",
      "1022/1022 [==============================] - 0s 44us/step - loss: 0.2135 - acc: 0.9100 - val_loss: 0.2789 - val_acc: 0.8721\n",
      "Epoch 32/100\n",
      "1022/1022 [==============================] - 0s 37us/step - loss: 0.2105 - acc: 0.9119 - val_loss: 0.2887 - val_acc: 0.8676\n",
      "Epoch 33/100\n",
      "1022/1022 [==============================] - 0s 39us/step - loss: 0.2126 - acc: 0.9119 - val_loss: 0.2789 - val_acc: 0.8721\n",
      "Epoch 34/100\n",
      "1022/1022 [==============================] - 0s 40us/step - loss: 0.2110 - acc: 0.9100 - val_loss: 0.2780 - val_acc: 0.8630\n",
      "Epoch 35/100\n",
      "1022/1022 [==============================] - 0s 41us/step - loss: 0.2125 - acc: 0.9110 - val_loss: 0.2811 - val_acc: 0.8767\n",
      "Epoch 36/100\n",
      "1022/1022 [==============================] - 0s 41us/step - loss: 0.2103 - acc: 0.9149 - val_loss: 0.2793 - val_acc: 0.8584\n",
      "Epoch 37/100\n",
      "1022/1022 [==============================] - 0s 40us/step - loss: 0.2132 - acc: 0.9110 - val_loss: 0.2782 - val_acc: 0.8721\n",
      "Epoch 38/100\n",
      "1022/1022 [==============================] - 0s 37us/step - loss: 0.2115 - acc: 0.9119 - val_loss: 0.2784 - val_acc: 0.8721\n",
      "Epoch 39/100\n",
      "1022/1022 [==============================] - 0s 35us/step - loss: 0.2126 - acc: 0.9139 - val_loss: 0.2855 - val_acc: 0.8630\n",
      "Epoch 40/100\n",
      "1022/1022 [==============================] - 0s 33us/step - loss: 0.2126 - acc: 0.9129 - val_loss: 0.2801 - val_acc: 0.8767\n",
      "Epoch 41/100\n",
      "1022/1022 [==============================] - 0s 32us/step - loss: 0.2121 - acc: 0.9080 - val_loss: 0.2790 - val_acc: 0.8767\n",
      "Epoch 42/100\n",
      "1022/1022 [==============================] - 0s 35us/step - loss: 0.2110 - acc: 0.9110 - val_loss: 0.2826 - val_acc: 0.8767\n",
      "Epoch 43/100\n",
      "1022/1022 [==============================] - 0s 36us/step - loss: 0.2121 - acc: 0.9100 - val_loss: 0.2781 - val_acc: 0.8721\n",
      "Epoch 44/100\n",
      "1022/1022 [==============================] - 0s 38us/step - loss: 0.2110 - acc: 0.9100 - val_loss: 0.2780 - val_acc: 0.8630\n",
      "Epoch 45/100\n",
      "1022/1022 [==============================] - 0s 37us/step - loss: 0.2122 - acc: 0.9129 - val_loss: 0.2780 - val_acc: 0.8721\n",
      "Epoch 46/100\n",
      "1022/1022 [==============================] - 0s 34us/step - loss: 0.2118 - acc: 0.9110 - val_loss: 0.2805 - val_acc: 0.8813\n",
      "Epoch 47/100\n",
      "1022/1022 [==============================] - 0s 34us/step - loss: 0.2107 - acc: 0.9110 - val_loss: 0.2840 - val_acc: 0.8676\n",
      "Epoch 48/100\n",
      "1022/1022 [==============================] - 0s 36us/step - loss: 0.2116 - acc: 0.9139 - val_loss: 0.2789 - val_acc: 0.8584\n",
      "Epoch 49/100\n",
      "1022/1022 [==============================] - 0s 36us/step - loss: 0.2121 - acc: 0.9119 - val_loss: 0.2788 - val_acc: 0.8721\n",
      "Epoch 50/100\n",
      "1022/1022 [==============================] - 0s 34us/step - loss: 0.2111 - acc: 0.9119 - val_loss: 0.2795 - val_acc: 0.8767\n",
      "Epoch 51/100\n",
      "1022/1022 [==============================] - 0s 35us/step - loss: 0.2115 - acc: 0.9100 - val_loss: 0.2783 - val_acc: 0.8721\n",
      "Epoch 52/100\n",
      "1022/1022 [==============================] - 0s 35us/step - loss: 0.2106 - acc: 0.9110 - val_loss: 0.2787 - val_acc: 0.8721\n",
      "Epoch 53/100\n",
      "1022/1022 [==============================] - 0s 38us/step - loss: 0.2117 - acc: 0.9119 - val_loss: 0.2780 - val_acc: 0.8721\n",
      "Epoch 54/100\n",
      "1022/1022 [==============================] - 0s 43us/step - loss: 0.2111 - acc: 0.9149 - val_loss: 0.2800 - val_acc: 0.8767\n",
      "Epoch 55/100\n",
      "1022/1022 [==============================] - 0s 34us/step - loss: 0.2111 - acc: 0.9070 - val_loss: 0.2794 - val_acc: 0.8767\n",
      "Epoch 56/100\n",
      "1022/1022 [==============================] - 0s 34us/step - loss: 0.2116 - acc: 0.9129 - val_loss: 0.2786 - val_acc: 0.8721\n",
      "Epoch 57/100\n",
      "1022/1022 [==============================] - 0s 32us/step - loss: 0.2107 - acc: 0.9041 - val_loss: 0.2823 - val_acc: 0.8767\n",
      "Epoch 58/100\n",
      "1022/1022 [==============================] - 0s 32us/step - loss: 0.2119 - acc: 0.9100 - val_loss: 0.2779 - val_acc: 0.8721\n",
      "Epoch 59/100\n",
      "1022/1022 [==============================] - 0s 36us/step - loss: 0.2111 - acc: 0.9119 - val_loss: 0.2777 - val_acc: 0.8676\n",
      "Epoch 60/100\n"
     ]
    },
    {
     "name": "stdout",
     "output_type": "stream",
     "text": [
      "1022/1022 [==============================] - 0s 32us/step - loss: 0.2118 - acc: 0.9119 - val_loss: 0.2789 - val_acc: 0.8813\n",
      "Epoch 61/100\n",
      "1022/1022 [==============================] - 0s 33us/step - loss: 0.2110 - acc: 0.9119 - val_loss: 0.2797 - val_acc: 0.8767\n",
      "Epoch 62/100\n",
      "1022/1022 [==============================] - 0s 34us/step - loss: 0.2115 - acc: 0.9100 - val_loss: 0.2777 - val_acc: 0.8630\n",
      "Epoch 63/100\n",
      "1022/1022 [==============================] - 0s 34us/step - loss: 0.2109 - acc: 0.9129 - val_loss: 0.2794 - val_acc: 0.8767\n",
      "Epoch 64/100\n",
      "1022/1022 [==============================] - 0s 32us/step - loss: 0.2119 - acc: 0.9070 - val_loss: 0.2840 - val_acc: 0.8630\n",
      "Epoch 65/100\n",
      "1022/1022 [==============================] - 0s 35us/step - loss: 0.2122 - acc: 0.9100 - val_loss: 0.2861 - val_acc: 0.8630\n",
      "Epoch 66/100\n",
      "1022/1022 [==============================] - 0s 37us/step - loss: 0.2107 - acc: 0.9110 - val_loss: 0.2778 - val_acc: 0.8676\n",
      "Epoch 67/100\n",
      "1022/1022 [==============================] - 0s 33us/step - loss: 0.2102 - acc: 0.9129 - val_loss: 0.2814 - val_acc: 0.8813\n",
      "Epoch 68/100\n",
      "1022/1022 [==============================] - 0s 33us/step - loss: 0.2116 - acc: 0.9110 - val_loss: 0.2796 - val_acc: 0.8767\n",
      "Epoch 69/100\n",
      "1022/1022 [==============================] - 0s 32us/step - loss: 0.2108 - acc: 0.9119 - val_loss: 0.2778 - val_acc: 0.8676\n",
      "Epoch 70/100\n",
      "1022/1022 [==============================] - 0s 31us/step - loss: 0.2082 - acc: 0.9110 - val_loss: 0.2818 - val_acc: 0.8676\n",
      "Epoch 71/100\n",
      "1022/1022 [==============================] - 0s 35us/step - loss: 0.2116 - acc: 0.9090 - val_loss: 0.2779 - val_acc: 0.8676\n",
      "Epoch 72/100\n",
      "1022/1022 [==============================] - 0s 37us/step - loss: 0.2112 - acc: 0.9110 - val_loss: 0.2779 - val_acc: 0.8721\n",
      "Epoch 73/100\n",
      "1022/1022 [==============================] - 0s 35us/step - loss: 0.2083 - acc: 0.9129 - val_loss: 0.2939 - val_acc: 0.8721\n",
      "Epoch 74/100\n",
      "1022/1022 [==============================] - 0s 35us/step - loss: 0.2107 - acc: 0.9119 - val_loss: 0.2778 - val_acc: 0.8676\n",
      "Epoch 75/100\n",
      "1022/1022 [==============================] - 0s 36us/step - loss: 0.2106 - acc: 0.9159 - val_loss: 0.2778 - val_acc: 0.8676\n",
      "Epoch 76/100\n",
      "1022/1022 [==============================] - 0s 35us/step - loss: 0.2105 - acc: 0.9139 - val_loss: 0.2786 - val_acc: 0.8584\n",
      "Epoch 77/100\n",
      "1022/1022 [==============================] - 0s 32us/step - loss: 0.2115 - acc: 0.9100 - val_loss: 0.2798 - val_acc: 0.8584\n",
      "Epoch 78/100\n",
      "1022/1022 [==============================] - 0s 37us/step - loss: 0.2111 - acc: 0.9129 - val_loss: 0.2817 - val_acc: 0.8767\n",
      "Epoch 79/100\n",
      "1022/1022 [==============================] - 0s 34us/step - loss: 0.2110 - acc: 0.9110 - val_loss: 0.2783 - val_acc: 0.8630\n",
      "Epoch 80/100\n",
      "1022/1022 [==============================] - 0s 33us/step - loss: 0.2106 - acc: 0.9110 - val_loss: 0.2888 - val_acc: 0.8630\n",
      "Epoch 81/100\n",
      "1022/1022 [==============================] - 0s 35us/step - loss: 0.2119 - acc: 0.9110 - val_loss: 0.2806 - val_acc: 0.8767\n",
      "Epoch 82/100\n",
      "1022/1022 [==============================] - 0s 37us/step - loss: 0.2108 - acc: 0.9149 - val_loss: 0.2790 - val_acc: 0.8767\n",
      "Epoch 83/100\n",
      "1022/1022 [==============================] - 0s 37us/step - loss: 0.2117 - acc: 0.9110 - val_loss: 0.2787 - val_acc: 0.8767\n",
      "Epoch 84/100\n",
      "1022/1022 [==============================] - 0s 32us/step - loss: 0.2098 - acc: 0.9090 - val_loss: 0.2845 - val_acc: 0.8676\n",
      "Epoch 85/100\n",
      "1022/1022 [==============================] - 0s 34us/step - loss: 0.2112 - acc: 0.9080 - val_loss: 0.2777 - val_acc: 0.8676\n",
      "Epoch 86/100\n",
      "1022/1022 [==============================] - 0s 34us/step - loss: 0.2106 - acc: 0.9129 - val_loss: 0.2781 - val_acc: 0.8721\n",
      "Epoch 87/100\n",
      "1022/1022 [==============================] - 0s 36us/step - loss: 0.2102 - acc: 0.9149 - val_loss: 0.2815 - val_acc: 0.8813\n",
      "Epoch 88/100\n",
      "1022/1022 [==============================] - 0s 39us/step - loss: 0.2113 - acc: 0.9119 - val_loss: 0.2798 - val_acc: 0.8767\n",
      "Epoch 89/100\n",
      "1022/1022 [==============================] - 0s 32us/step - loss: 0.2108 - acc: 0.9129 - val_loss: 0.2777 - val_acc: 0.8676\n",
      "Epoch 90/100\n",
      "1022/1022 [==============================] - 0s 32us/step - loss: 0.2101 - acc: 0.9080 - val_loss: 0.2777 - val_acc: 0.8676\n",
      "Epoch 91/100\n",
      "1022/1022 [==============================] - 0s 35us/step - loss: 0.2079 - acc: 0.9070 - val_loss: 0.2859 - val_acc: 0.8630\n",
      "Epoch 92/100\n",
      "1022/1022 [==============================] - 0s 34us/step - loss: 0.2100 - acc: 0.9129 - val_loss: 0.2845 - val_acc: 0.8630\n",
      "Epoch 93/100\n",
      "1022/1022 [==============================] - 0s 32us/step - loss: 0.2104 - acc: 0.9139 - val_loss: 0.2847 - val_acc: 0.8630\n",
      "Epoch 94/100\n",
      "1022/1022 [==============================] - 0s 32us/step - loss: 0.2114 - acc: 0.9139 - val_loss: 0.2789 - val_acc: 0.8813\n",
      "Epoch 95/100\n",
      "1022/1022 [==============================] - 0s 32us/step - loss: 0.2108 - acc: 0.9100 - val_loss: 0.2785 - val_acc: 0.8721\n",
      "Epoch 96/100\n",
      "1022/1022 [==============================] - 0s 37us/step - loss: 0.2094 - acc: 0.9100 - val_loss: 0.2842 - val_acc: 0.8721\n",
      "Epoch 97/100\n",
      "1022/1022 [==============================] - 0s 34us/step - loss: 0.2132 - acc: 0.9110 - val_loss: 0.2774 - val_acc: 0.8630\n",
      "Epoch 98/100\n",
      "1022/1022 [==============================] - 0s 32us/step - loss: 0.2101 - acc: 0.9110 - val_loss: 0.2829 - val_acc: 0.8721\n",
      "Epoch 99/100\n",
      "1022/1022 [==============================] - 0s 33us/step - loss: 0.2117 - acc: 0.9100 - val_loss: 0.2786 - val_acc: 0.8767\n",
      "Epoch 100/100\n",
      "1022/1022 [==============================] - 0s 34us/step - loss: 0.2113 - acc: 0.9129 - val_loss: 0.2784 - val_acc: 0.8767\n"
     ]
    }
   ],
   "source": [
    "hist = model.fit(X_train, Y_train,          batch_size=32, epochs=100,          validation_data=(X_val, Y_val))"
   ]
  },
  {
   "cell_type": "code",
   "execution_count": 47,
   "metadata": {},
   "outputs": [
    {
     "name": "stdout",
     "output_type": "stream",
     "text": [
      "219/219 [==============================] - 0s 26us/step\n"
     ]
    },
    {
     "data": {
      "text/plain": [
       "0.8812785396292874"
      ]
     },
     "execution_count": 47,
     "metadata": {},
     "output_type": "execute_result"
    }
   ],
   "source": [
    "model.evaluate(X_test, Y_test)[1]"
   ]
  },
  {
   "cell_type": "code",
   "execution_count": 48,
   "metadata": {},
   "outputs": [],
   "source": [
    "#Visualizing Loss and Accuracy\n",
    "import matplotlib.pyplot as plt\n"
   ]
  },
  {
   "cell_type": "code",
   "execution_count": 49,
   "metadata": {},
   "outputs": [
    {
     "data": {
      "image/png": "[encoded data removed]",
      "text/plain": [
       "<Figure size 432x288 with 1 Axes>"
      ]
     },
     "metadata": {
      "needs_background": "light"
     },
     "output_type": "display_data"
    }
   ],
   "source": [
    "plt.plot(hist.history['loss'])\n",
    "plt.plot(hist.history['val_loss'])\n",
    "plt.title('Model loss')\n",
    "plt.ylabel('Loss')\n",
    "plt.xlabel('Epoch')\n",
    "plt.legend(['Train', 'Val'], loc='upper right')\n",
    "plt.show()"
   ]
  },
  {
   "cell_type": "code",
   "execution_count": 50,
   "metadata": {},
   "outputs": [
    {
     "data": {
      "image/png": "[encoded data removed]",
      "text/plain": [
       "<Figure size 432x288 with 1 Axes>"
      ]
     },
     "metadata": {
      "needs_background": "light"
     },
     "output_type": "display_data"
    }
   ],
   "source": [
    "plt.plot(hist.history['acc'])\n",
    "plt.plot(hist.history['val_acc'])\n",
    "plt.title('Model accuracy')\n",
    "plt.ylabel('Accuracy')\n",
    "plt.xlabel('Epoch')\n",
    "plt.legend(['Train', 'Val'], loc='lower right')\n",
    "plt.show()"
   ]
  },
  {
   "cell_type": "code",
   "execution_count": 51,
   "metadata": {},
   "outputs": [],
   "source": [
    "model_2 = Sequential([    Dense(1000, activation='relu', input_shape=(10,)),    Dense(1000, activation='relu'),    Dense(1000, activation='relu'),    Dense(1000, activation='relu'),    Dense(1, activation='sigmoid'),])"
   ]
  },
  {
   "cell_type": "code",
   "execution_count": 52,
   "metadata": {},
   "outputs": [],
   "source": [
    "model_2.compile(optimizer='adam',              loss='binary_crossentropy',              metrics=['accuracy'])"
   ]
  },
  {
   "cell_type": "code",
   "execution_count": 53,
   "metadata": {},
   "outputs": [
    {
     "name": "stdout",
     "output_type": "stream",
     "text": [
      "Train on 1022 samples, validate on 219 samples\n",
      "Epoch 1/100\n",
      "1022/1022 [==============================] - 4s 3ms/step - loss: 0.4743 - acc: 0.8014 - val_loss: 0.4335 - val_acc: 0.8037\n",
      "Epoch 2/100\n",
      "1022/1022 [==============================] - 3s 3ms/step - loss: 0.3369 - acc: 0.8689 - val_loss: 0.4690 - val_acc: 0.7580\n",
      "Epoch 3/100\n",
      "1022/1022 [==============================] - 3s 3ms/step - loss: 0.3022 - acc: 0.8767 - val_loss: 0.3837 - val_acc: 0.8447\n",
      "Epoch 4/100\n",
      "1022/1022 [==============================] - 3s 3ms/step - loss: 0.2713 - acc: 0.8894 - val_loss: 0.3532 - val_acc: 0.8402\n",
      "Epoch 5/100\n",
      "1022/1022 [==============================] - 3s 3ms/step - loss: 0.2730 - acc: 0.8933 - val_loss: 0.3352 - val_acc: 0.8539\n",
      "Epoch 6/100\n",
      "1022/1022 [==============================] - 3s 3ms/step - loss: 0.2436 - acc: 0.9002 - val_loss: 0.3646 - val_acc: 0.8447\n",
      "Epoch 7/100\n",
      "1022/1022 [==============================] - 3s 3ms/step - loss: 0.2759 - acc: 0.8855 - val_loss: 0.3414 - val_acc: 0.8447\n",
      "Epoch 8/100\n",
      "1022/1022 [==============================] - 3s 3ms/step - loss: 0.2415 - acc: 0.9051 - val_loss: 0.3315 - val_acc: 0.8493\n",
      "Epoch 9/100\n",
      "1022/1022 [==============================] - 3s 3ms/step - loss: 0.2233 - acc: 0.9022 - val_loss: 0.3148 - val_acc: 0.8813\n",
      "Epoch 10/100\n",
      "1022/1022 [==============================] - 3s 3ms/step - loss: 0.2247 - acc: 0.9149 - val_loss: 0.3169 - val_acc: 0.8584\n",
      "Epoch 11/100\n",
      "1022/1022 [==============================] - 3s 3ms/step - loss: 0.2129 - acc: 0.9178 - val_loss: 0.3309 - val_acc: 0.8539\n",
      "Epoch 12/100\n",
      "1022/1022 [==============================] - 3s 3ms/step - loss: 0.2123 - acc: 0.9159 - val_loss: 0.3414 - val_acc: 0.8539\n",
      "Epoch 13/100\n",
      "1022/1022 [==============================] - 3s 3ms/step - loss: 0.2287 - acc: 0.9090 - val_loss: 0.3054 - val_acc: 0.8676\n",
      "Epoch 14/100\n",
      "1022/1022 [==============================] - 3s 3ms/step - loss: 0.2268 - acc: 0.9110 - val_loss: 0.2959 - val_acc: 0.8858\n",
      "Epoch 15/100\n",
      "1022/1022 [==============================] - 3s 3ms/step - loss: 0.2368 - acc: 0.9041 - val_loss: 0.3498 - val_acc: 0.8311\n",
      "Epoch 16/100\n",
      "1022/1022 [==============================] - 3s 3ms/step - loss: 0.2218 - acc: 0.9178 - val_loss: 0.2943 - val_acc: 0.8584\n",
      "Epoch 17/100\n",
      "1022/1022 [==============================] - 3s 3ms/step - loss: 0.2149 - acc: 0.9198 - val_loss: 0.2933 - val_acc: 0.8676\n",
      "Epoch 18/100\n",
      "1022/1022 [==============================] - 3s 3ms/step - loss: 0.1970 - acc: 0.9237 - val_loss: 0.3150 - val_acc: 0.8447\n",
      "Epoch 19/100\n",
      "1022/1022 [==============================] - 3s 3ms/step - loss: 0.2165 - acc: 0.9159 - val_loss: 0.3224 - val_acc: 0.8630\n",
      "Epoch 20/100\n",
      "1022/1022 [==============================] - 3s 3ms/step - loss: 0.1975 - acc: 0.9129 - val_loss: 0.3063 - val_acc: 0.8676\n",
      "Epoch 21/100\n",
      "1022/1022 [==============================] - 3s 3ms/step - loss: 0.1808 - acc: 0.9315 - val_loss: 0.2823 - val_acc: 0.8767\n",
      "Epoch 22/100\n",
      "1022/1022 [==============================] - 3s 3ms/step - loss: 0.1871 - acc: 0.9305 - val_loss: 0.3050 - val_acc: 0.8493\n",
      "Epoch 23/100\n",
      "1022/1022 [==============================] - 3s 3ms/step - loss: 0.1841 - acc: 0.9256 - val_loss: 0.3187 - val_acc: 0.8584\n",
      "Epoch 24/100\n",
      "1022/1022 [==============================] - 3s 3ms/step - loss: 0.1912 - acc: 0.9188 - val_loss: 0.2842 - val_acc: 0.8630\n",
      "Epoch 25/100\n",
      "1022/1022 [==============================] - 3s 3ms/step - loss: 0.1751 - acc: 0.9295 - val_loss: 0.3200 - val_acc: 0.8539\n",
      "Epoch 26/100\n",
      "1022/1022 [==============================] - 3s 3ms/step - loss: 0.1962 - acc: 0.9188 - val_loss: 0.3287 - val_acc: 0.8539\n",
      "Epoch 27/100\n",
      "1022/1022 [==============================] - 3s 3ms/step - loss: 0.1869 - acc: 0.9237 - val_loss: 0.4727 - val_acc: 0.8265\n",
      "Epoch 28/100\n",
      "1022/1022 [==============================] - 3s 3ms/step - loss: 0.2125 - acc: 0.9149 - val_loss: 0.2879 - val_acc: 0.8539\n",
      "Epoch 29/100\n",
      "1022/1022 [==============================] - 3s 3ms/step - loss: 0.1844 - acc: 0.9305 - val_loss: 0.3050 - val_acc: 0.8721\n",
      "Epoch 30/100\n",
      "1022/1022 [==============================] - 3s 3ms/step - loss: 0.1829 - acc: 0.9217 - val_loss: 0.3248 - val_acc: 0.8676\n",
      "Epoch 31/100\n",
      "1022/1022 [==============================] - 3s 3ms/step - loss: 0.1629 - acc: 0.9393 - val_loss: 0.3086 - val_acc: 0.8630\n",
      "Epoch 32/100\n",
      "1022/1022 [==============================] - 3s 3ms/step - loss: 0.1704 - acc: 0.9276 - val_loss: 0.3023 - val_acc: 0.8630\n",
      "Epoch 33/100\n",
      "1022/1022 [==============================] - 3s 3ms/step - loss: 0.1712 - acc: 0.9325 - val_loss: 0.3452 - val_acc: 0.8539\n",
      "Epoch 34/100\n",
      "1022/1022 [==============================] - 3s 3ms/step - loss: 0.1790 - acc: 0.9335 - val_loss: 0.3717 - val_acc: 0.8584\n",
      "Epoch 35/100\n",
      "1022/1022 [==============================] - 3s 3ms/step - loss: 0.1921 - acc: 0.9217 - val_loss: 0.3186 - val_acc: 0.8721\n",
      "Epoch 36/100\n",
      "1022/1022 [==============================] - 3s 3ms/step - loss: 0.1708 - acc: 0.9364 - val_loss: 0.3384 - val_acc: 0.8584\n",
      "Epoch 37/100\n",
      "1022/1022 [==============================] - 3s 3ms/step - loss: 0.1903 - acc: 0.9237 - val_loss: 0.3509 - val_acc: 0.8584\n",
      "Epoch 38/100\n",
      "1022/1022 [==============================] - 3s 3ms/step - loss: 0.1824 - acc: 0.9374 - val_loss: 0.3763 - val_acc: 0.8676\n",
      "Epoch 39/100\n",
      "1022/1022 [==============================] - 3s 3ms/step - loss: 0.1790 - acc: 0.9276 - val_loss: 0.3329 - val_acc: 0.8676\n",
      "Epoch 40/100\n",
      "1022/1022 [==============================] - 3s 3ms/step - loss: 0.1763 - acc: 0.9207 - val_loss: 0.4712 - val_acc: 0.8128\n",
      "Epoch 41/100\n",
      "1022/1022 [==============================] - 3s 3ms/step - loss: 0.2047 - acc: 0.9227 - val_loss: 0.3268 - val_acc: 0.8584\n",
      "Epoch 42/100\n",
      "1022/1022 [==============================] - 3s 3ms/step - loss: 0.1781 - acc: 0.9295 - val_loss: 0.3506 - val_acc: 0.8584\n",
      "Epoch 43/100\n",
      "1022/1022 [==============================] - 3s 3ms/step - loss: 0.1625 - acc: 0.9403 - val_loss: 0.3071 - val_acc: 0.8584\n",
      "Epoch 44/100\n",
      "1022/1022 [==============================] - 3s 3ms/step - loss: 0.1672 - acc: 0.9266 - val_loss: 0.3702 - val_acc: 0.8630\n",
      "Epoch 45/100\n",
      "1022/1022 [==============================] - 3s 3ms/step - loss: 0.1529 - acc: 0.9413 - val_loss: 0.4359 - val_acc: 0.8584\n",
      "Epoch 46/100\n",
      "1022/1022 [==============================] - 3s 3ms/step - loss: 0.1543 - acc: 0.9384 - val_loss: 0.3305 - val_acc: 0.8721\n",
      "Epoch 47/100\n",
      "1022/1022 [==============================] - 3s 3ms/step - loss: 0.1548 - acc: 0.9364 - val_loss: 0.3595 - val_acc: 0.8676\n",
      "Epoch 48/100\n",
      "1022/1022 [==============================] - 3s 3ms/step - loss: 0.1486 - acc: 0.9403 - val_loss: 0.3564 - val_acc: 0.8676\n",
      "Epoch 49/100\n",
      "1022/1022 [==============================] - 3s 3ms/step - loss: 0.1612 - acc: 0.9344 - val_loss: 0.3362 - val_acc: 0.8767\n",
      "Epoch 50/100\n",
      "1022/1022 [==============================] - 3s 3ms/step - loss: 0.1664 - acc: 0.9403 - val_loss: 0.3632 - val_acc: 0.8539\n",
      "Epoch 51/100\n",
      "1022/1022 [==============================] - 3s 3ms/step - loss: 0.1626 - acc: 0.9344 - val_loss: 0.3451 - val_acc: 0.8539\n",
      "Epoch 52/100\n",
      "1022/1022 [==============================] - 3s 3ms/step - loss: 0.1486 - acc: 0.9354 - val_loss: 0.3736 - val_acc: 0.8676\n",
      "Epoch 53/100\n",
      "1022/1022 [==============================] - 3s 3ms/step - loss: 0.1522 - acc: 0.9305 - val_loss: 0.3461 - val_acc: 0.8630\n",
      "Epoch 54/100\n",
      "1022/1022 [==============================] - 3s 3ms/step - loss: 0.1521 - acc: 0.9413 - val_loss: 0.3939 - val_acc: 0.8493\n",
      "Epoch 55/100\n",
      "1022/1022 [==============================] - 3s 3ms/step - loss: 0.1533 - acc: 0.9413 - val_loss: 0.3731 - val_acc: 0.8584\n",
      "Epoch 56/100\n",
      "1022/1022 [==============================] - 3s 3ms/step - loss: 0.1505 - acc: 0.9403 - val_loss: 0.5358 - val_acc: 0.8447\n",
      "Epoch 57/100\n",
      "1022/1022 [==============================] - 3s 3ms/step - loss: 0.1595 - acc: 0.9413 - val_loss: 0.4100 - val_acc: 0.8356\n",
      "Epoch 58/100\n",
      "1022/1022 [==============================] - 3s 3ms/step - loss: 0.1840 - acc: 0.9295 - val_loss: 0.4617 - val_acc: 0.8311\n",
      "Epoch 59/100\n",
      "1022/1022 [==============================] - 3s 3ms/step - loss: 0.1643 - acc: 0.9305 - val_loss: 0.3635 - val_acc: 0.8721\n",
      "Epoch 60/100\n",
      "1022/1022 [==============================] - 3s 3ms/step - loss: 0.1559 - acc: 0.9305 - val_loss: 0.3925 - val_acc: 0.8950\n"
     ]
    },
    {
     "name": "stdout",
     "output_type": "stream",
     "text": [
      "Epoch 61/100\n",
      "1022/1022 [==============================] - 3s 3ms/step - loss: 0.1585 - acc: 0.9374 - val_loss: 0.3223 - val_acc: 0.8584\n",
      "Epoch 62/100\n",
      "1022/1022 [==============================] - 3s 3ms/step - loss: 0.1518 - acc: 0.9354 - val_loss: 0.4035 - val_acc: 0.8630\n",
      "Epoch 63/100\n",
      "1022/1022 [==============================] - 3s 3ms/step - loss: 0.1398 - acc: 0.9384 - val_loss: 0.4169 - val_acc: 0.8721\n",
      "Epoch 64/100\n",
      "1022/1022 [==============================] - 3s 3ms/step - loss: 0.1306 - acc: 0.9472 - val_loss: 0.3693 - val_acc: 0.8584\n",
      "Epoch 65/100\n",
      "1022/1022 [==============================] - 3s 3ms/step - loss: 0.1262 - acc: 0.9521 - val_loss: 0.4497 - val_acc: 0.8356\n",
      "Epoch 66/100\n",
      "1022/1022 [==============================] - 3s 3ms/step - loss: 0.1461 - acc: 0.9403 - val_loss: 0.3976 - val_acc: 0.8721\n",
      "Epoch 67/100\n",
      "1022/1022 [==============================] - 3s 3ms/step - loss: 0.1438 - acc: 0.9432 - val_loss: 0.3708 - val_acc: 0.8676\n",
      "Epoch 68/100\n",
      "1022/1022 [==============================] - 3s 3ms/step - loss: 0.1503 - acc: 0.9393 - val_loss: 0.3643 - val_acc: 0.8676\n",
      "Epoch 69/100\n",
      "1022/1022 [==============================] - 3s 3ms/step - loss: 0.1288 - acc: 0.9472 - val_loss: 0.4673 - val_acc: 0.8813\n",
      "Epoch 70/100\n",
      "1022/1022 [==============================] - 3s 3ms/step - loss: 0.1332 - acc: 0.9521 - val_loss: 0.4284 - val_acc: 0.8447\n",
      "Epoch 71/100\n",
      "1022/1022 [==============================] - 3s 3ms/step - loss: 0.1234 - acc: 0.9462 - val_loss: 0.4685 - val_acc: 0.8676\n",
      "Epoch 72/100\n",
      "1022/1022 [==============================] - 3s 3ms/step - loss: 0.1109 - acc: 0.9589 - val_loss: 0.5319 - val_acc: 0.8539\n",
      "Epoch 73/100\n",
      "1022/1022 [==============================] - 3s 3ms/step - loss: 0.1366 - acc: 0.9413 - val_loss: 0.4365 - val_acc: 0.8584\n",
      "Epoch 74/100\n",
      "1022/1022 [==============================] - 3s 3ms/step - loss: 0.1272 - acc: 0.9452 - val_loss: 0.4328 - val_acc: 0.8539\n",
      "Epoch 75/100\n",
      "1022/1022 [==============================] - 3s 3ms/step - loss: 0.1137 - acc: 0.9491 - val_loss: 0.4879 - val_acc: 0.8630\n",
      "Epoch 76/100\n",
      "1022/1022 [==============================] - 3s 3ms/step - loss: 0.1270 - acc: 0.9442 - val_loss: 0.4746 - val_acc: 0.8584\n",
      "Epoch 77/100\n",
      "1022/1022 [==============================] - 3s 3ms/step - loss: 0.1144 - acc: 0.9618 - val_loss: 0.5020 - val_acc: 0.8630\n",
      "Epoch 78/100\n",
      "1022/1022 [==============================] - 3s 3ms/step - loss: 0.1163 - acc: 0.9530 - val_loss: 0.4581 - val_acc: 0.8676\n",
      "Epoch 79/100\n",
      "1022/1022 [==============================] - 3s 3ms/step - loss: 0.1063 - acc: 0.9540 - val_loss: 0.5193 - val_acc: 0.8539\n",
      "Epoch 80/100\n",
      "1022/1022 [==============================] - 3s 3ms/step - loss: 0.1120 - acc: 0.9579 - val_loss: 0.5396 - val_acc: 0.8493\n",
      "Epoch 81/100\n",
      "1022/1022 [==============================] - 3s 3ms/step - loss: 0.1081 - acc: 0.9599 - val_loss: 0.4563 - val_acc: 0.8584\n",
      "Epoch 82/100\n",
      "1022/1022 [==============================] - 3s 3ms/step - loss: 0.1838 - acc: 0.9276 - val_loss: 0.3891 - val_acc: 0.8539\n",
      "Epoch 83/100\n",
      "1022/1022 [==============================] - 3s 3ms/step - loss: 0.1722 - acc: 0.9295 - val_loss: 0.4409 - val_acc: 0.8447\n",
      "Epoch 84/100\n",
      "1022/1022 [==============================] - 3s 3ms/step - loss: 0.1471 - acc: 0.9442 - val_loss: 0.4169 - val_acc: 0.8402\n",
      "Epoch 85/100\n",
      "1022/1022 [==============================] - 3s 3ms/step - loss: 0.1123 - acc: 0.9540 - val_loss: 0.4475 - val_acc: 0.8676\n",
      "Epoch 86/100\n",
      "1022/1022 [==============================] - 3s 3ms/step - loss: 0.1362 - acc: 0.9462 - val_loss: 0.4509 - val_acc: 0.8813\n",
      "Epoch 87/100\n",
      "1022/1022 [==============================] - 3s 3ms/step - loss: 0.1232 - acc: 0.9550 - val_loss: 0.4864 - val_acc: 0.8402\n",
      "Epoch 88/100\n",
      "1022/1022 [==============================] - 3s 3ms/step - loss: 0.1132 - acc: 0.9589 - val_loss: 0.5361 - val_acc: 0.8584\n",
      "Epoch 89/100\n",
      "1022/1022 [==============================] - 3s 3ms/step - loss: 0.1263 - acc: 0.9511 - val_loss: 0.5646 - val_acc: 0.8539\n",
      "Epoch 90/100\n",
      "1022/1022 [==============================] - 3s 3ms/step - loss: 0.1250 - acc: 0.9472 - val_loss: 0.5483 - val_acc: 0.8447\n",
      "Epoch 91/100\n",
      "1022/1022 [==============================] - 3s 3ms/step - loss: 0.1062 - acc: 0.9589 - val_loss: 0.5415 - val_acc: 0.8584\n",
      "Epoch 92/100\n",
      "1022/1022 [==============================] - 3s 3ms/step - loss: 0.0912 - acc: 0.9677 - val_loss: 0.5617 - val_acc: 0.8584\n",
      "Epoch 93/100\n",
      "1022/1022 [==============================] - 3s 3ms/step - loss: 0.1101 - acc: 0.9579 - val_loss: 0.4692 - val_acc: 0.8584\n",
      "Epoch 94/100\n",
      "1022/1022 [==============================] - 3s 3ms/step - loss: 0.0928 - acc: 0.9667 - val_loss: 0.6351 - val_acc: 0.8493\n",
      "Epoch 95/100\n",
      "1022/1022 [==============================] - 3s 3ms/step - loss: 0.0896 - acc: 0.9628 - val_loss: 0.7601 - val_acc: 0.8447\n",
      "Epoch 96/100\n",
      "1022/1022 [==============================] - 3s 3ms/step - loss: 0.1072 - acc: 0.9560 - val_loss: 0.5865 - val_acc: 0.8630\n",
      "Epoch 97/100\n",
      "1022/1022 [==============================] - 3s 3ms/step - loss: 0.1222 - acc: 0.9511 - val_loss: 0.5116 - val_acc: 0.8493\n",
      "Epoch 98/100\n",
      "1022/1022 [==============================] - 3s 3ms/step - loss: 0.1157 - acc: 0.9589 - val_loss: 0.5348 - val_acc: 0.8447\n",
      "Epoch 99/100\n",
      "1022/1022 [==============================] - 3s 3ms/step - loss: 0.0979 - acc: 0.9599 - val_loss: 0.5819 - val_acc: 0.8721\n",
      "Epoch 100/100\n",
      "1022/1022 [==============================] - 3s 3ms/step - loss: 0.1097 - acc: 0.9560 - val_loss: 0.5974 - val_acc: 0.8584\n"
     ]
    }
   ],
   "source": [
    "hist_2 = model_2.fit(X_train, Y_train,          batch_size=32, epochs=100,          validation_data=(X_val, Y_val))"
   ]
  },
  {
   "cell_type": "code",
   "execution_count": 54,
   "metadata": {},
   "outputs": [
    {
     "data": {
      "image/png": "[encoded data removed]",
      "text/plain": [
       "<Figure size 432x288 with 1 Axes>"
      ]
     },
     "metadata": {
      "needs_background": "light"
     },
     "output_type": "display_data"
    }
   ],
   "source": [
    "plt.plot(hist_2.history['loss'])\n",
    "plt.plot(hist_2.history['val_loss'])\n",
    "plt.title('Model loss')\n",
    "plt.ylabel('Loss')\n",
    "plt.xlabel('Epoch')\n",
    "plt.legend(['Train', 'Val'], loc='upper right')\n",
    "plt.show()"
   ]
  },
  {
   "cell_type": "code",
   "execution_count": 55,
   "metadata": {},
   "outputs": [
    {
     "data": {
      "image/png": "[encoded data removed]",
      "text/plain": [
       "<Figure size 432x288 with 1 Axes>"
      ]
     },
     "metadata": {
      "needs_background": "light"
     },
     "output_type": "display_data"
    }
   ],
   "source": [
    "plt.plot(hist_2.history['acc'])\n",
    "plt.plot(hist_2.history['val_acc'])\n",
    "plt.title('Model accuracy')\n",
    "plt.ylabel('Accuracy')\n",
    "plt.xlabel('Epoch')\n",
    "plt.legend(['Train', 'Val'], loc='lower right')\n",
    "plt.show()"
   ]
  },
  {
   "cell_type": "code",
   "execution_count": 56,
   "metadata": {},
   "outputs": [],
   "source": [
    "#regularization\n",
    "from keras.layers import Dropout\n",
    "from keras import regularizers"
   ]
  },
  {
   "cell_type": "code",
   "execution_count": 57,
   "metadata": {},
   "outputs": [
    {
     "name": "stdout",
     "output_type": "stream",
     "text": [
      "WARNING:tensorflow:From /home/kevin_ochieng/anaconda3/lib/python3.7/site-packages/keras/backend/tensorflow_backend.py:3445: calling dropout (from tensorflow.python.ops.nn_ops) with keep_prob is deprecated and will be removed in a future version.\n",
      "Instructions for updating:\n",
      "Please use `rate` instead of `keep_prob`. Rate should be set to `rate = 1 - keep_prob`.\n"
     ]
    }
   ],
   "source": [
    "model_3 = Sequential([    Dense(1000, activation='relu', kernel_regularizer=regularizers.l2(0.01), input_shape=(10,)),    Dropout(0.3),    Dense(1000, activation='relu', kernel_regularizer=regularizers.l2(0.01)),    Dropout(0.3),    Dense(1000, activation='relu', kernel_regularizer=regularizers.l2(0.01)),    Dropout(0.3),    Dense(1000, activation='relu', kernel_regularizer=regularizers.l2(0.01)),    Dropout(0.3),    Dense(1, activation='sigmoid', kernel_regularizer=regularizers.l2(0.01)),])"
   ]
  },
  {
   "cell_type": "code",
   "execution_count": 58,
   "metadata": {},
   "outputs": [],
   "source": [
    "model_3.compile(optimizer='adam',              loss='binary_crossentropy',              metrics=['accuracy'])"
   ]
  },
  {
   "cell_type": "code",
   "execution_count": 59,
   "metadata": {},
   "outputs": [
    {
     "name": "stdout",
     "output_type": "stream",
     "text": [
      "Train on 1022 samples, validate on 219 samples\n",
      "Epoch 1/100\n",
      "1022/1022 [==============================] - 6s 6ms/step - loss: 14.4767 - acc: 0.6125 - val_loss: 3.9616 - val_acc: 0.8356\n",
      "Epoch 2/100\n",
      "1022/1022 [==============================] - 4s 4ms/step - loss: 1.6785 - acc: 0.8513 - val_loss: 0.7008 - val_acc: 0.8265\n",
      "Epoch 3/100\n",
      "1022/1022 [==============================] - 4s 3ms/step - loss: 0.5604 - acc: 0.8738 - val_loss: 0.5498 - val_acc: 0.8402\n",
      "Epoch 4/100\n",
      "1022/1022 [==============================] - 4s 3ms/step - loss: 0.4934 - acc: 0.8806 - val_loss: 0.5409 - val_acc: 0.8311\n",
      "Epoch 5/100\n",
      "1022/1022 [==============================] - 4s 4ms/step - loss: 0.4778 - acc: 0.8777 - val_loss: 0.5261 - val_acc: 0.8447\n",
      "Epoch 6/100\n",
      "1022/1022 [==============================] - 3s 3ms/step - loss: 0.4525 - acc: 0.9012 - val_loss: 0.5142 - val_acc: 0.8630\n",
      "Epoch 7/100\n",
      "1022/1022 [==============================] - 3s 3ms/step - loss: 0.4795 - acc: 0.8738 - val_loss: 0.5687 - val_acc: 0.8128\n",
      "Epoch 8/100\n",
      "1022/1022 [==============================] - 3s 3ms/step - loss: 0.4657 - acc: 0.8777 - val_loss: 0.4957 - val_acc: 0.8447\n",
      "Epoch 9/100\n",
      "1022/1022 [==============================] - 3s 3ms/step - loss: 0.4604 - acc: 0.8787 - val_loss: 0.4975 - val_acc: 0.8402\n",
      "Epoch 10/100\n",
      "1022/1022 [==============================] - 3s 3ms/step - loss: 0.4512 - acc: 0.8992 - val_loss: 0.4871 - val_acc: 0.8539\n",
      "Epoch 11/100\n",
      "1022/1022 [==============================] - 4s 3ms/step - loss: 0.4378 - acc: 0.8973 - val_loss: 0.4830 - val_acc: 0.8676\n",
      "Epoch 12/100\n",
      "1022/1022 [==============================] - 3s 3ms/step - loss: 0.4291 - acc: 0.8973 - val_loss: 0.5558 - val_acc: 0.8447\n",
      "Epoch 13/100\n",
      "1022/1022 [==============================] - 3s 3ms/step - loss: 0.4749 - acc: 0.8787 - val_loss: 0.5322 - val_acc: 0.8356\n",
      "Epoch 14/100\n",
      "1022/1022 [==============================] - 3s 3ms/step - loss: 0.4691 - acc: 0.8689 - val_loss: 0.4906 - val_acc: 0.8447\n",
      "Epoch 15/100\n",
      "1022/1022 [==============================] - 3s 3ms/step - loss: 0.4432 - acc: 0.8865 - val_loss: 0.4745 - val_acc: 0.8447\n",
      "Epoch 16/100\n",
      "1022/1022 [==============================] - 3s 3ms/step - loss: 0.4336 - acc: 0.8963 - val_loss: 0.4720 - val_acc: 0.8584\n",
      "Epoch 17/100\n",
      "1022/1022 [==============================] - 4s 3ms/step - loss: 0.4279 - acc: 0.8963 - val_loss: 0.4955 - val_acc: 0.8539\n",
      "Epoch 18/100\n",
      "1022/1022 [==============================] - 3s 3ms/step - loss: 0.4506 - acc: 0.8777 - val_loss: 0.4825 - val_acc: 0.8493\n",
      "Epoch 19/100\n",
      "1022/1022 [==============================] - 3s 3ms/step - loss: 0.4300 - acc: 0.9002 - val_loss: 0.4748 - val_acc: 0.8539\n",
      "Epoch 20/100\n",
      "1022/1022 [==============================] - 4s 4ms/step - loss: 0.4292 - acc: 0.8865 - val_loss: 0.4639 - val_acc: 0.8584\n",
      "Epoch 21/100\n",
      "1022/1022 [==============================] - 3s 3ms/step - loss: 0.4334 - acc: 0.8875 - val_loss: 0.5310 - val_acc: 0.8402\n",
      "Epoch 22/100\n",
      "1022/1022 [==============================] - 3s 3ms/step - loss: 0.4284 - acc: 0.8894 - val_loss: 0.5083 - val_acc: 0.8402\n",
      "Epoch 23/100\n",
      "1022/1022 [==============================] - 3s 3ms/step - loss: 0.4322 - acc: 0.8865 - val_loss: 0.4678 - val_acc: 0.8676\n",
      "Epoch 24/100\n",
      "1022/1022 [==============================] - 3s 3ms/step - loss: 0.4374 - acc: 0.8904 - val_loss: 0.4660 - val_acc: 0.8539\n",
      "Epoch 25/100\n",
      "1022/1022 [==============================] - 3s 3ms/step - loss: 0.4169 - acc: 0.8973 - val_loss: 0.4683 - val_acc: 0.8767\n",
      "Epoch 26/100\n",
      "1022/1022 [==============================] - 3s 3ms/step - loss: 0.4224 - acc: 0.8963 - val_loss: 0.4796 - val_acc: 0.8584\n",
      "Epoch 27/100\n",
      "1022/1022 [==============================] - 3s 3ms/step - loss: 0.4274 - acc: 0.8826 - val_loss: 0.4649 - val_acc: 0.8630\n",
      "Epoch 28/100\n",
      "1022/1022 [==============================] - 3s 3ms/step - loss: 0.4349 - acc: 0.8826 - val_loss: 0.4892 - val_acc: 0.8584\n",
      "Epoch 29/100\n",
      "1022/1022 [==============================] - 4s 4ms/step - loss: 0.4239 - acc: 0.8953 - val_loss: 0.4759 - val_acc: 0.8721\n",
      "Epoch 30/100\n",
      "1022/1022 [==============================] - 4s 4ms/step - loss: 0.4309 - acc: 0.8933 - val_loss: 0.4642 - val_acc: 0.8447\n",
      "Epoch 31/100\n",
      "1022/1022 [==============================] - 3s 3ms/step - loss: 0.4284 - acc: 0.8933 - val_loss: 0.4696 - val_acc: 0.8493\n",
      "Epoch 32/100\n",
      "1022/1022 [==============================] - 3s 3ms/step - loss: 0.4451 - acc: 0.8738 - val_loss: 0.5695 - val_acc: 0.8082\n",
      "Epoch 33/100\n",
      "1022/1022 [==============================] - 3s 3ms/step - loss: 0.4362 - acc: 0.8806 - val_loss: 0.4787 - val_acc: 0.8676\n",
      "Epoch 34/100\n",
      "1022/1022 [==============================] - 3s 3ms/step - loss: 0.4264 - acc: 0.8885 - val_loss: 0.4779 - val_acc: 0.8630\n",
      "Epoch 35/100\n",
      "1022/1022 [==============================] - 4s 4ms/step - loss: 0.4297 - acc: 0.8816 - val_loss: 0.4856 - val_acc: 0.8584\n",
      "Epoch 36/100\n",
      "1022/1022 [==============================] - 4s 4ms/step - loss: 0.4309 - acc: 0.8845 - val_loss: 0.4618 - val_acc: 0.8630\n",
      "Epoch 37/100\n",
      "1022/1022 [==============================] - 4s 4ms/step - loss: 0.4251 - acc: 0.8894 - val_loss: 0.4842 - val_acc: 0.8630\n",
      "Epoch 38/100\n",
      "1022/1022 [==============================] - 4s 3ms/step - loss: 0.4294 - acc: 0.8885 - val_loss: 0.4611 - val_acc: 0.8630\n",
      "Epoch 39/100\n",
      "1022/1022 [==============================] - 4s 3ms/step - loss: 0.4292 - acc: 0.8933 - val_loss: 0.4597 - val_acc: 0.8447\n",
      "Epoch 40/100\n",
      "1022/1022 [==============================] - 3s 3ms/step - loss: 0.4285 - acc: 0.8924 - val_loss: 0.5016 - val_acc: 0.8493\n",
      "Epoch 41/100\n",
      "1022/1022 [==============================] - 3s 3ms/step - loss: 0.4297 - acc: 0.8963 - val_loss: 0.4878 - val_acc: 0.8584\n",
      "Epoch 42/100\n",
      "1022/1022 [==============================] - 4s 3ms/step - loss: 0.4148 - acc: 0.9022 - val_loss: 0.4570 - val_acc: 0.8584\n",
      "Epoch 43/100\n",
      "1022/1022 [==============================] - 4s 4ms/step - loss: 0.4229 - acc: 0.8973 - val_loss: 0.4576 - val_acc: 0.8676\n",
      "Epoch 44/100\n",
      "1022/1022 [==============================] - 4s 4ms/step - loss: 0.4130 - acc: 0.8845 - val_loss: 0.4853 - val_acc: 0.8493\n",
      "Epoch 45/100\n",
      "1022/1022 [==============================] - 4s 3ms/step - loss: 0.4269 - acc: 0.8904 - val_loss: 0.4593 - val_acc: 0.8630\n",
      "Epoch 46/100\n",
      "1022/1022 [==============================] - 4s 4ms/step - loss: 0.4235 - acc: 0.8885 - val_loss: 0.4681 - val_acc: 0.8539\n",
      "Epoch 47/100\n",
      "1022/1022 [==============================] - 4s 3ms/step - loss: 0.4264 - acc: 0.8787 - val_loss: 0.4628 - val_acc: 0.8356\n",
      "Epoch 48/100\n",
      "1022/1022 [==============================] - 4s 4ms/step - loss: 0.4163 - acc: 0.8973 - val_loss: 0.4547 - val_acc: 0.8676\n",
      "Epoch 49/100\n",
      "1022/1022 [==============================] - 4s 3ms/step - loss: 0.4245 - acc: 0.8943 - val_loss: 0.4568 - val_acc: 0.8447\n",
      "Epoch 50/100\n",
      "1022/1022 [==============================] - 4s 4ms/step - loss: 0.4143 - acc: 0.8924 - val_loss: 0.4569 - val_acc: 0.8493\n",
      "Epoch 51/100\n",
      "1022/1022 [==============================] - 4s 4ms/step - loss: 0.4316 - acc: 0.8855 - val_loss: 0.4611 - val_acc: 0.8630\n",
      "Epoch 52/100\n",
      "1022/1022 [==============================] - 4s 4ms/step - loss: 0.4126 - acc: 0.9002 - val_loss: 0.4699 - val_acc: 0.8584\n",
      "Epoch 53/100\n",
      "1022/1022 [==============================] - 4s 4ms/step - loss: 0.4217 - acc: 0.8894 - val_loss: 0.4656 - val_acc: 0.8676\n",
      "Epoch 54/100\n",
      "1022/1022 [==============================] - 4s 4ms/step - loss: 0.4309 - acc: 0.8894 - val_loss: 0.4658 - val_acc: 0.8447\n",
      "Epoch 55/100\n",
      "1022/1022 [==============================] - 4s 4ms/step - loss: 0.4212 - acc: 0.8885 - val_loss: 0.4588 - val_acc: 0.8493\n",
      "Epoch 56/100\n",
      "1022/1022 [==============================] - 4s 3ms/step - loss: 0.4222 - acc: 0.8904 - val_loss: 0.4622 - val_acc: 0.8539\n",
      "Epoch 57/100\n",
      "1022/1022 [==============================] - 4s 4ms/step - loss: 0.4280 - acc: 0.8894 - val_loss: 0.4612 - val_acc: 0.8539\n",
      "Epoch 58/100\n",
      "1022/1022 [==============================] - 4s 4ms/step - loss: 0.4324 - acc: 0.8894 - val_loss: 0.4640 - val_acc: 0.8447\n",
      "Epoch 59/100\n",
      "1022/1022 [==============================] - 4s 4ms/step - loss: 0.4212 - acc: 0.8973 - val_loss: 0.4664 - val_acc: 0.8630\n",
      "Epoch 60/100\n",
      "1022/1022 [==============================] - 4s 4ms/step - loss: 0.4176 - acc: 0.8943 - val_loss: 0.4565 - val_acc: 0.8630\n"
     ]
    },
    {
     "name": "stdout",
     "output_type": "stream",
     "text": [
      "Epoch 61/100\n",
      "1022/1022 [==============================] - 4s 4ms/step - loss: 0.4096 - acc: 0.8982 - val_loss: 0.4627 - val_acc: 0.8584\n",
      "Epoch 62/100\n",
      "1022/1022 [==============================] - 4s 4ms/step - loss: 0.4108 - acc: 0.8875 - val_loss: 0.4589 - val_acc: 0.8584\n",
      "Epoch 63/100\n",
      "1022/1022 [==============================] - 4s 4ms/step - loss: 0.4192 - acc: 0.8885 - val_loss: 0.4834 - val_acc: 0.8447\n",
      "Epoch 64/100\n",
      "1022/1022 [==============================] - 4s 4ms/step - loss: 0.4515 - acc: 0.8796 - val_loss: 0.4879 - val_acc: 0.8493\n",
      "Epoch 65/100\n",
      "1022/1022 [==============================] - 4s 4ms/step - loss: 0.4293 - acc: 0.8914 - val_loss: 0.4788 - val_acc: 0.8584\n",
      "Epoch 66/100\n",
      "1022/1022 [==============================] - 4s 4ms/step - loss: 0.4402 - acc: 0.8748 - val_loss: 0.4589 - val_acc: 0.8584\n",
      "Epoch 67/100\n",
      "1022/1022 [==============================] - 4s 4ms/step - loss: 0.4099 - acc: 0.8943 - val_loss: 0.4545 - val_acc: 0.8630\n",
      "Epoch 68/100\n",
      "1022/1022 [==============================] - 4s 3ms/step - loss: 0.4075 - acc: 0.8924 - val_loss: 0.4533 - val_acc: 0.8630\n",
      "Epoch 69/100\n",
      "1022/1022 [==============================] - 4s 4ms/step - loss: 0.4297 - acc: 0.8953 - val_loss: 0.4573 - val_acc: 0.8356\n",
      "Epoch 70/100\n",
      "1022/1022 [==============================] - 4s 3ms/step - loss: 0.4203 - acc: 0.8826 - val_loss: 0.5023 - val_acc: 0.8265\n",
      "Epoch 71/100\n",
      "1022/1022 [==============================] - 3s 3ms/step - loss: 0.4502 - acc: 0.8708 - val_loss: 0.4637 - val_acc: 0.8447\n",
      "Epoch 72/100\n",
      "1022/1022 [==============================] - 3s 3ms/step - loss: 0.4214 - acc: 0.8894 - val_loss: 0.4575 - val_acc: 0.8447\n",
      "Epoch 73/100\n",
      "1022/1022 [==============================] - 4s 4ms/step - loss: 0.4106 - acc: 0.8982 - val_loss: 0.4536 - val_acc: 0.8630\n",
      "Epoch 74/100\n",
      "1022/1022 [==============================] - 4s 4ms/step - loss: 0.4149 - acc: 0.9012 - val_loss: 0.5001 - val_acc: 0.8265\n",
      "Epoch 75/100\n",
      "1022/1022 [==============================] - 4s 4ms/step - loss: 0.4265 - acc: 0.8894 - val_loss: 0.4972 - val_acc: 0.8447\n",
      "Epoch 76/100\n",
      "1022/1022 [==============================] - 4s 4ms/step - loss: 0.4204 - acc: 0.8875 - val_loss: 0.4544 - val_acc: 0.8630\n",
      "Epoch 77/100\n",
      "1022/1022 [==============================] - 4s 4ms/step - loss: 0.4143 - acc: 0.9022 - val_loss: 0.5010 - val_acc: 0.8493\n",
      "Epoch 78/100\n",
      "1022/1022 [==============================] - 4s 4ms/step - loss: 0.4215 - acc: 0.8855 - val_loss: 0.4646 - val_acc: 0.8539\n",
      "Epoch 79/100\n",
      "1022/1022 [==============================] - 4s 4ms/step - loss: 0.4219 - acc: 0.8826 - val_loss: 0.4554 - val_acc: 0.8447\n",
      "Epoch 80/100\n",
      "1022/1022 [==============================] - 3s 3ms/step - loss: 0.4115 - acc: 0.8806 - val_loss: 0.5055 - val_acc: 0.8493\n",
      "Epoch 81/100\n",
      "1022/1022 [==============================] - 4s 4ms/step - loss: 0.4443 - acc: 0.8904 - val_loss: 0.4619 - val_acc: 0.8584\n",
      "Epoch 82/100\n",
      "1022/1022 [==============================] - 4s 4ms/step - loss: 0.4313 - acc: 0.8904 - val_loss: 0.4698 - val_acc: 0.8676\n",
      "Epoch 83/100\n",
      "1022/1022 [==============================] - 4s 3ms/step - loss: 0.4227 - acc: 0.8933 - val_loss: 0.4536 - val_acc: 0.8584\n",
      "Epoch 84/100\n",
      "1022/1022 [==============================] - 4s 3ms/step - loss: 0.4157 - acc: 0.9031 - val_loss: 0.4583 - val_acc: 0.8493\n",
      "Epoch 85/100\n",
      "1022/1022 [==============================] - 3s 3ms/step - loss: 0.4248 - acc: 0.8914 - val_loss: 0.4564 - val_acc: 0.8493\n",
      "Epoch 86/100\n",
      "1022/1022 [==============================] - 3s 3ms/step - loss: 0.4177 - acc: 0.8845 - val_loss: 0.4536 - val_acc: 0.8493\n",
      "Epoch 87/100\n",
      "1022/1022 [==============================] - 3s 3ms/step - loss: 0.4211 - acc: 0.8943 - val_loss: 0.4577 - val_acc: 0.8493\n",
      "Epoch 88/100\n",
      "1022/1022 [==============================] - 4s 4ms/step - loss: 0.4148 - acc: 0.9002 - val_loss: 0.4576 - val_acc: 0.8493\n",
      "Epoch 89/100\n",
      "1022/1022 [==============================] - 4s 4ms/step - loss: 0.4153 - acc: 0.8885 - val_loss: 0.4523 - val_acc: 0.8584\n",
      "Epoch 90/100\n",
      "1022/1022 [==============================] - 4s 4ms/step - loss: 0.4190 - acc: 0.8904 - val_loss: 0.4614 - val_acc: 0.8630\n",
      "Epoch 91/100\n",
      "1022/1022 [==============================] - 4s 4ms/step - loss: 0.4146 - acc: 0.8963 - val_loss: 0.4646 - val_acc: 0.8584\n",
      "Epoch 92/100\n",
      "1022/1022 [==============================] - 4s 4ms/step - loss: 0.4246 - acc: 0.8885 - val_loss: 0.4522 - val_acc: 0.8630\n",
      "Epoch 93/100\n",
      "1022/1022 [==============================] - 4s 4ms/step - loss: 0.4157 - acc: 0.8982 - val_loss: 0.4570 - val_acc: 0.8447\n",
      "Epoch 94/100\n",
      "1022/1022 [==============================] - 3s 3ms/step - loss: 0.4239 - acc: 0.8826 - val_loss: 0.4535 - val_acc: 0.8584\n",
      "Epoch 95/100\n",
      "1022/1022 [==============================] - 3s 3ms/step - loss: 0.4167 - acc: 0.8894 - val_loss: 0.4538 - val_acc: 0.8493\n",
      "Epoch 96/100\n",
      "1022/1022 [==============================] - 4s 4ms/step - loss: 0.4187 - acc: 0.9012 - val_loss: 0.4714 - val_acc: 0.8539\n",
      "Epoch 97/100\n",
      "1022/1022 [==============================] - 4s 4ms/step - loss: 0.4136 - acc: 0.8914 - val_loss: 0.4893 - val_acc: 0.8493\n",
      "Epoch 98/100\n",
      "1022/1022 [==============================] - 4s 3ms/step - loss: 0.4296 - acc: 0.8855 - val_loss: 0.4901 - val_acc: 0.8493\n",
      "Epoch 99/100\n",
      "1022/1022 [==============================] - 4s 4ms/step - loss: 0.4184 - acc: 0.8943 - val_loss: 0.4587 - val_acc: 0.8630\n",
      "Epoch 100/100\n",
      "1022/1022 [==============================] - 4s 4ms/step - loss: 0.4203 - acc: 0.8924 - val_loss: 0.4617 - val_acc: 0.8584\n"
     ]
    }
   ],
   "source": [
    "hist_3 = model_3.fit(X_train, Y_train,          batch_size=32, epochs=100,          validation_data=(X_val, Y_val))"
   ]
  },
  {
   "cell_type": "code",
   "execution_count": 60,
   "metadata": {},
   "outputs": [
    {
     "data": {
      "image/png": "[encoded data removed]",
      "text/plain": [
       "<Figure size 432x288 with 1 Axes>"
      ]
     },
     "metadata": {
      "needs_background": "light"
     },
     "output_type": "display_data"
    }
   ],
   "source": [
    "plt.plot(hist_3.history['loss'])\n",
    "plt.plot(hist_3.history['val_loss'])\n",
    "plt.title('Model loss')\n",
    "plt.ylabel('Loss')\n",
    "plt.xlabel('Epoch')\n",
    "plt.legend(['Train', 'Val'], loc='upper right')\n",
    "plt.ylim(top=1.2, bottom=0)\n",
    "plt.show()"
   ]
  },
  {
   "cell_type": "code",
   "execution_count": 61,
   "metadata": {},
   "outputs": [
    {
     "data": {
      "image/png": "[encoded data removed]",
      "text/plain": [
       "<Figure size 432x288 with 1 Axes>"
      ]
     },
     "metadata": {
      "needs_background": "light"
     },
     "output_type": "display_data"
    }
   ],
   "source": [
    "plt.plot(hist_3.history['acc'])\n",
    "plt.plot(hist_3.history['val_acc'])\n",
    "plt.title('Model accuracy')\n",
    "plt.ylabel('Accuracy')\n",
    "plt.xlabel('Epoch')\n",
    "plt.legend(['Train', 'Val'], loc='lower right')\n",
    "plt.show()"
   ]
  }
 ],
 "metadata": {
  "kernelspec": {
   "display_name": "Python 3",
   "language": "python",
   "name": "python3"
  },
  "language_info": {
   "codemirror_mode": {
    "name": "ipython",
    "version": 3
   },
   "file_extension": ".py",
   "mimetype": "text/x-python",
   "name": "python",
   "nbconvert_exporter": "python",
   "pygments_lexer": "ipython3",
   "version": "3.7.0"
  }
 },
 "nbformat": 4,
 "nbformat_minor": 2
}
